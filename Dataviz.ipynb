{
 "cells": [
  {
   "cell_type": "code",
   "execution_count": 1,
   "metadata": {},
   "outputs": [],
   "source": [
    "from ipywidgets import interact, interactive, IntSlider, Layout, interact_manual\n",
    "import ipywidgets as widgets\n",
    "from IPython.display import display\n",
    "\n",
    "import numpy as np\n",
    "import matplotlib.pyplot as plt\n",
    "#%matplotlib inline\n",
    "\n",
    "import pandas as pd"
   ]
  },
  {
   "cell_type": "code",
   "execution_count": 2,
   "metadata": {},
   "outputs": [
    {
     "name": "stdout",
     "output_type": "stream",
     "text": [
      "X shape: (8001, 51)\n",
      "X_test_final shape: (4000, 51)\n"
     ]
    }
   ],
   "source": [
    "# l'endettement n'est pas un critère très significatif\n",
    "\n",
    "#influences MACRO, 2013, PIB récession ou inflation, croissance +/- fortes\n",
    "\n",
    "#métaclasses par labels 4/2\n",
    "\n",
    "#bfr gros: fragilité (ou gros besoin)\n",
    "\n",
    "# working capital (bfr=Net Operatiing Capital) / SA\n",
    "\n",
    "\n",
    "# ta= total assets\n",
    "\n",
    "# ebitda/ta\n",
    "# shareholder funds / TA\n",
    "# *change in shareholder equitiy\n",
    "# cash market + mark sec / TA\n",
    "# *#EBIT/ TA\n",
    "# Tot deb / Shareholder funds\n",
    "# *Cash flow / Tot det\n",
    "# *cash flow / current liabilities\n",
    "# ebit/ tot sales\n",
    "# cash flow / tot sales\n",
    "\n",
    "\n",
    "\n",
    "col_names=[\n",
    "    #Liquidity\n",
    "           '(Cash+Mark.Sec)/Current Liabilities',#*\n",
    "           '(Cash+Mark.Sec)/Total Sales',#*\n",
    "           'Cash/Current Assets',\n",
    "           'Cash/Total Assets',\n",
    "           'Current Assets/Current Liabilities',\n",
    "           'Current Assets/Total Assets',\n",
    "           'Current Liabilities/Total Assets',\n",
    "           'Current Liabilities/Total Sales',\n",
    "           'Inventories/Total Assets',\n",
    "           'Quick Assets/Current Liabilities',\n",
    "           'Quick Assets/Total Assets',\n",
    "           'Working Capital/Total Assets',\n",
    "           'Working Capital/Total Sales',\n",
    "    #Solvency\n",
    "           'Financial Debt/Cash Flow',\n",
    "           'Financial Expenses/EBITDA',\n",
    "           'Financial Expenses/Net Income',\n",
    "           'Financial Expenses/Total Assets',\n",
    "           'Financial Expenses/Value Added',\n",
    "    #Profitability\n",
    "           'Cash Flow/Shareholder Funds',\n",
    "           'Cash Flow/Total Assets',\n",
    "           'EBIT/Shareholder Funds',\n",
    "           'EBIT/Total Assets',#\n",
    "           'EBITDA/Permanent Equity',\n",
    "           'EBITDA/Total Assets',\n",
    "           'Net Income/Shareholder Funds',\n",
    "           'Net Income/Total Assets',\n",
    "           'Profit before Tax/Shareholder Funds',\n",
    "    #Financial Structure\n",
    "           'Long Term Debt/Shareholder Funds',\n",
    "           'Long Term Debt/Total Assets',\n",
    "           'Net Op.Work.Capital/Total Assets',\n",
    "           'Shareholder Funds/Permanent Equity',\n",
    "           'Shareholder Funds/Total Assets',#\n",
    "           'Total Debt/Shareholder Funds',#\n",
    "           'Total Debt/Total Assets',\n",
    "    #Activity\n",
    "           'Cash Flow/Total Sales',#\n",
    "           'Cash Flow/Value Added',\n",
    "           'EBIT/Value Added',\n",
    "           'EBITDA/Total Sales',#\n",
    "           'Gross Trading Profit/Total Sales',\n",
    "           'Net Income/Total Sales',\n",
    "           'Net Income/Value Added',\n",
    "           'Value Added/Fixed Assets',\n",
    "           'Value Added/Total Assets',\n",
    "           'Value Added/Total Sales',\n",
    "    #Turnover\n",
    "           'Accounts Payable/Total Sales',\n",
    "           'Current Assets/Total Sales',\n",
    "           'Inventories/Total Sales',\n",
    "           'Net.Op.Work.Capital/Total Sales',\n",
    "           'Receivables/Total Sales',\n",
    "           'Total Sales/Total Assets',\n",
    "    'Année']\n",
    "\n",
    "X=np.genfromtxt('X_train.csv')#../input/\n",
    "y=np.genfromtxt('y_train.csv')\n",
    "\n",
    "X_test_final=np.genfromtxt('X_test.csv')\n",
    "\n",
    "print('X shape:',X.shape)\n",
    "print('X_test_final shape:',X_test_final.shape)"
   ]
  },
  {
   "cell_type": "code",
   "execution_count": 3,
   "metadata": {},
   "outputs": [
    {
     "name": "stdout",
     "output_type": "stream",
     "text": [
      "1 Total Debt/Shareholder Funds\n",
      "2 Current Liabilities/Total Sales\n",
      "3 Net.Op.Work.Capital/Total Sales\n",
      "4 Value Added/Fixed Assets\n",
      "5 Profit before Tax/Shareholder Funds\n",
      "6 Net Income/Shareholder Funds\n",
      "7 Gross Trading Profit/Total Sales\n",
      "8 Financial Expenses/Value Added\n",
      "9 Cash Flow/Value Added\n",
      "10 Cash Flow/Total Sales\n",
      "11 EBITDA/Total Assets\n",
      "12 Working Capital/Total Assets\n",
      "13 Long Term Debt/Total Assets\n",
      "14 Inventories/Total Sales\n",
      "15 Cash Flow/Shareholder Funds\n"
     ]
    }
   ],
   "source": [
    "# attributs par ordre d'importance selon la random forest\n",
    "FI=[32,  7, 47, 41, 26, 24, 38, 17, 35, 34, 23, 11, 28, 46, 18, 25, 43,\n",
    "        6, 13, 44,  5, 39, 36, 42, 48,  8, 45, 37, 22, 29, 49, 27, 20, 21,\n",
    "        1, 40, 19,  3,  0,  2, 30, 12, 31, 15,  4, 14, 10, 16, 33,  9]\n",
    "for i in range(15):\n",
    "    print(i+1,col_names[FI[i]])"
   ]
  },
  {
   "cell_type": "code",
   "execution_count": 4,
   "metadata": {},
   "outputs": [],
   "source": [
    "def normalizeByYr(X,X_test_final):\n",
    "    X_2=np.copy(X)\n",
    "    X_test_final_2=np.copy(X_test_final)\n",
    "    X_means={}\n",
    "    X_stds={}\n",
    "    \n",
    "    X_means[2011]=np.nanmean(X[X[:,-1]==2011], axis=0)\n",
    "    X_stds[2011]=np.nanstd(X[X[:,-1]==2011],axis=0)\n",
    "    X_means[2011][-1]=0;X_stds[2011][-1]=1\n",
    "\n",
    "    X_means[2012]=np.nanmean(X[X[:,-1]==2012], axis=0)\n",
    "    X_stds[2012]=np.nanstd(X[X[:,-1]==2012],axis=0)\n",
    "    X_means[2012][-1]=0;X_stds[2012][-1]=1\n",
    "\n",
    "    X_means[2013]=np.nanmean(X[X[:,-1]==2013], axis=0)\n",
    "    X_stds[2013]=np.nanstd(X[X[:,-1]==2013],axis=0)\n",
    "    X_means[2013][-1]=0;X_stds[2013][-1]=1\n",
    "\n",
    "    def normalizeRow(x):\n",
    "        return (x-X_means[x[-1]])/X_stds[x[-1]]\n",
    "\n",
    "    X_2=np.apply_along_axis(normalizeRow, 1, X_2)\n",
    "\n",
    "    X_means[2013]=np.nanmean(X_test_final[X_test_final[:,-1]==2013], axis=0)\n",
    "    X_stds[2013]=np.nanstd(X_test_final[X_test_final[:,-1]==2013],axis=0)\n",
    "    X_means[2013][-1]=0;X_stds[2013][-1]=1\n",
    "\n",
    "    X_means[2014]=np.nanmean(X_test_final[X_test_final[:,-1]==2014], axis=0)\n",
    "    X_stds[2014]=np.nanstd(X_test_final[X_test_final[:,-1]==2014],axis=0)\n",
    "    X_means[2014][-1]=0;X_stds[2014][-1]=1\n",
    "\n",
    "    X_test_final_2=np.apply_along_axis(normalizeRow, 1, X_test_final_2)\n",
    "    return X_2,X_test_final_2"
   ]
  },
  {
   "cell_type": "code",
   "execution_count": 5,
   "metadata": {
    "scrolled": false
   },
   "outputs": [],
   "source": [
    "#X_2,X_test_final_2=normalizeByYr(X,X_test_final)\n",
    "#X_2=X_2[~np.any(np.isnan(X_2), axis=1)]\n",
    "#df['Label'] = df['Label'].apply(lambda x: 'Faillite' if x==1 else 'Saine')\n",
    "X_2,X_test_final_2=np.copy(X),np.copy(X_test_final)\n",
    "\n",
    "from sklearn.preprocessing import MinMaxScaler\n",
    "\n",
    "df=pd.DataFrame(X_2,columns=col_names)\n",
    "df_final=pd.DataFrame(X_test_final_2,columns=col_names)\n",
    "df['Label']=y\n",
    "df=df.dropna()\n",
    "df_final=df_final.dropna()\n",
    "\n",
    "def normalisationMinMax():\n",
    "    y_nonan=df['Label']\n",
    "    y_annee=df['Année']\n",
    "    y_final_annee=df_final['Année']\n",
    "    X_2=df.values[:,:-1]\n",
    "    X_test_final_2=df_final.values\n",
    "    X_minmax=np.hstack((MinMaxScaler().fit_transform(X_2[:,:-1]),y_annee.values.reshape(-1,1)))\n",
    "    X_final_minmax=np.hstack((MinMaxScaler().fit_transform(X_test_final_2[:,:-1]),y_final_annee.values.reshape(-1,1)))\n",
    "    df=pd.DataFrame(X_minmax,columns=col_names)\n",
    "    df_final=pd.DataFrame(X_final_minmax,columns=col_names)\n",
    "    df['Label']=y_nonan\n",
    "    \n",
    "df['Label'] = df['Label'].apply(lambda x: 'Faillite' if x==1 else 'Saine')\n"
   ]
  },
  {
   "cell_type": "code",
   "execution_count": 6,
   "metadata": {},
   "outputs": [],
   "source": [
    "def smartPlot(annee,col1_name,col2_name,xlim,ylim,s_value):\n",
    "    df_annee=df[df['Année']==annee]\n",
    "    if annee>=2013:\n",
    "        df_final_annee=df_final[df_final['Année']==annee]\n",
    "    \n",
    "    df_annee_saine=df_annee[df_annee['Label']=='Saine']\n",
    "    df_annee_faillite=df_annee[df_annee['Label']=='Faillite']\n",
    "\n",
    "    col1_saine=df_annee_saine[col1_name]\n",
    "    col2_saine=df_annee_saine[col2_name]\n",
    "    col1_faillite=df_annee_faillite[col1_name]\n",
    "    col2_faillite=df_annee_faillite[col2_name]\n",
    "\n",
    "    plt.figure(figsize=(20,20))\n",
    "    if annee>=2013:\n",
    "        plt.scatter(df_final_annee[col1_name],df_final_annee[col2_name],c='blue',label=\"Entreprise à déterminer\",s=s_value)\n",
    "    if annee<=2013:\n",
    "        plt.scatter(col1_saine,col2_saine,c='g',label=\"Entreprise saine\",s=s_value)\n",
    "        plt.scatter(col1_faillite,col2_faillite,c='r',label=\"Entreprise en faillite\",s=s_value)\n",
    "    plt.xlabel(col1_name)\n",
    "    plt.ylabel(col2_name)\n",
    "    plt.xlim(-xlim,xlim)\n",
    "    plt.ylim(-ylim,ylim)\n",
    "    plt.legend()\n",
    "    plt.show()"
   ]
  },
  {
   "cell_type": "code",
   "execution_count": 7,
   "metadata": {},
   "outputs": [
    {
     "data": {
      "application/vnd.jupyter.widget-view+json": {
       "model_id": "c745c6726b9f43899048c139bd9d1db0",
       "version_major": 2,
       "version_minor": 0
      },
      "text/plain": [
       "interactive(children=(RadioButtons(description='annee', options=(2011, 2012, 2013, 2014), value=2011), Dropdow…"
      ]
     },
     "metadata": {},
     "output_type": "display_data"
    }
   ],
   "source": [
    "m = interactive(smartPlot,\n",
    "                annee=widgets.RadioButtons(options=[2011,2012,2013,2014]),\n",
    "                col1_name=col_names,\n",
    "                col2_name=col_names,\n",
    "                xlim=(1,3,1),\n",
    "                ylim=(1,3,1),\n",
    "                s_value=(1,50,5))\n",
    "\n",
    "display(m)\n",
    "\n",
    "#'(Cash+Mark.Sec)/Current Liabilities',#*\n",
    "#'(Cash+Mark.Sec)/Total Sales',#*\n",
    "#'EBIT/Total Assets',#\n",
    "#'Shareholder Funds/Total Assets',#\n",
    "#'Total Debt/Shareholder Funds',#\n",
    "#'Cash Flow/Total Sales',#\n",
    "#'EBITDA/Total Sales',#"
   ]
  },
  {
   "cell_type": "markdown",
   "metadata": {},
   "source": [
    "* 'Current Assets/Current Liabilities' indé année si > certain epsilon tout est sain à part qq outlier sur 2012."
   ]
  },
  {
   "cell_type": "code",
   "execution_count": 8,
   "metadata": {
    "scrolled": false
   },
   "outputs": [],
   "source": [
    "#def distrib():\n",
    "def plotDistrib(annee,col_name,xmin,xmax,bw_value):\n",
    "    \n",
    "    df_annee=df[df['Année']==annee]\n",
    "\n",
    "    plt.figure(figsize=(20,20))\n",
    "    \n",
    "    if annee<=2013:\n",
    "        df_annee_saine=df_annee[df_annee['Label']=='Saine']\n",
    "        df_annee_faillite=df_annee[df_annee['Label']=='Faillite']\n",
    "        col_saine=df_annee_saine[col_name]\n",
    "        col_faillite=df_annee_faillite[col_name]\n",
    "        col_saine=col_saine[col_saine>xmin];col_saine=col_saine[col_saine<xmax]\n",
    "        col_faillite=col_faillite[col_faillite>xmin];col_faillite=col_faillite[col_faillite<xmax]\n",
    "        col_saine.plot.kde(bw_value,color='g',label=\"Entreprises saines\")\n",
    "        col_faillite.plot.kde(bw_value,color='r',label=\"Entreprises en faillite\")\n",
    "        \n",
    "        col_faillite.append(col_saine).plot.kde(bw_value,color='b',label=\"Toutes les entreprises d'entraînement\")\n",
    "    if annee>=2013:\n",
    "        df_final_annee=df_final[df_final['Année']==annee]\n",
    "        col_final=df_final_annee[col_name]\n",
    "        col_final=col_final[col_final>xmin];col_final=col_final[col_final<xmax]\n",
    "        col_final.plot.kde(bw_value,color='gray',label=\"Entreprises à déterminer\")\n",
    "    plt.xlim(xmin,xmax)\n",
    "    plt.legend()\n",
    "    plt.show()"
   ]
  },
  {
   "cell_type": "code",
   "execution_count": 9,
   "metadata": {
    "scrolled": false
   },
   "outputs": [
    {
     "data": {
      "application/vnd.jupyter.widget-view+json": {
       "model_id": "8a5ea7f2f257446cb5e417282e9e81af",
       "version_major": 2,
       "version_minor": 0
      },
      "text/plain": [
       "interactive(children=(RadioButtons(description='annee', options=(2011, 2012, 2013, 2014), value=2011), Dropdow…"
      ]
     },
     "metadata": {},
     "output_type": "display_data"
    }
   ],
   "source": [
    "m = interactive(plotDistrib,\n",
    "                annee=widgets.RadioButtons(options=[2011,2012,2013,2014]),\n",
    "                col_name=col_names,\n",
    "                xmin=(-50,0,0.5),\n",
    "                xmax=(0,50,0.5),\n",
    "                bw_value=(0.01,1,0.05),\n",
    "                continuous_update=False)\n",
    "\n",
    "display(m)\n",
    "# 1 Total Debt/Shareholder Funds\n",
    "# 2 Current Liabilities/Total Sales\n",
    "# 3 Net.Op.Work.Capital/Total Sales\n",
    "# 4 Value Added/Fixed Assets\n",
    "# 5 Profit before Tax/Shareholder Funds\n",
    "# 6 Net Income/Shareholder Funds\n",
    "# 7 Gross Trading Profit/Total Sales\n",
    "# 8 Financial Expenses/Value Added\n",
    "# 9 Cash Flow/Value Added\n",
    "# 10 Cash Flow/Total Sales\n",
    "# 11 EBITDA/Total Assets\n",
    "# 12 Working Capital/Total Assets\n",
    "# 13 Long Term Debt/Total Assets\n",
    "# 14 Inventories/Total Sales\n",
    "# 15 Cash Flow/Shareholder Funds"
   ]
  },
  {
   "cell_type": "code",
   "execution_count": 10,
   "metadata": {},
   "outputs": [],
   "source": [
    "if False:\n",
    "    print(df_2011.iloc[0])\n",
    "    print('-----')\n",
    "    print(df_2011.iloc[1])\n",
    "    print('-----')\n",
    "    print(df_2011.iloc[2])\n",
    "    print('-----')\n",
    "    print(df_2011.iloc[3])\n",
    "    print('-----')\n",
    "    print(df_2011.iloc[4])\n",
    "    print('-----')\n",
    "    print(df_2011.iloc[5])\n",
    "    print('-----')\n",
    "    print(df_2011.iloc[6])"
   ]
  }
 ],
 "metadata": {
  "kernelspec": {
   "display_name": "Python 3",
   "language": "python",
   "name": "python3"
  },
  "language_info": {
   "codemirror_mode": {
    "name": "ipython",
    "version": 3
   },
   "file_extension": ".py",
   "mimetype": "text/x-python",
   "name": "python",
   "nbconvert_exporter": "python",
   "pygments_lexer": "ipython3",
   "version": "3.6.8"
  }
 },
 "nbformat": 4,
 "nbformat_minor": 2
}
